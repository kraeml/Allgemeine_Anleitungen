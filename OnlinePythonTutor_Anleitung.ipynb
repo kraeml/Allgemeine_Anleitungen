{
 "cells": [
  {
   "cell_type": "markdown",
   "metadata": {},
   "source": [
    "# Installation\n",
    "\n",
    "Hier wird die Installation auf einer Linux-Maschine beschrieben."
   ]
  },
  {
   "cell_type": "code",
   "execution_count": 1,
   "metadata": {},
   "outputs": [
    {
     "name": "stdout",
     "output_type": "stream",
     "text": [
      "/home/vagrant\n"
     ]
    }
   ],
   "source": [
    "cd ~"
   ]
  },
  {
   "cell_type": "markdown",
   "metadata": {},
   "source": [
    "__Optional__: In unser Homeverzeichnis wechseln."
   ]
  },
  {
   "cell_type": "code",
   "execution_count": 2,
   "metadata": {},
   "outputs": [
    {
     "data": {
      "text/plain": [
       "'/home/vagrant'"
      ]
     },
     "execution_count": 2,
     "metadata": {},
     "output_type": "execute_result"
    }
   ],
   "source": [
    "pwd"
   ]
  },
  {
   "cell_type": "markdown",
   "metadata": {},
   "source": [
    "Ausgeben des aktuellen Arbeitsverzeichniss"
   ]
  },
  {
   "cell_type": "code",
   "execution_count": 3,
   "metadata": {},
   "outputs": [
    {
     "name": "stdout",
     "output_type": "stream",
     "text": [
      "drwxrwxr-x 5 vagrant vagrant 4096 Dez 11 08:31 \u001b[0m\u001b[01;34mextraProjekte\u001b[0m/\r\n"
     ]
    }
   ],
   "source": [
    "ls -ld extraProjekte || mkdir extraProjekte"
   ]
  },
  {
   "cell_type": "markdown",
   "metadata": {},
   "source": [
    "Ausgabe von `extraProjekte`. Falls dieses Verzeichnis nicht existiert, dann erstelle dieses."
   ]
  },
  {
   "cell_type": "code",
   "execution_count": 4,
   "metadata": {},
   "outputs": [
    {
     "name": "stdout",
     "output_type": "stream",
     "text": [
      "/home/vagrant/extraProjekte\n"
     ]
    }
   ],
   "source": [
    "cd extraProjekte/"
   ]
  },
  {
   "cell_type": "code",
   "execution_count": 5,
   "metadata": {},
   "outputs": [
    {
     "name": "stdout",
     "output_type": "stream",
     "text": [
      "drwxrwxr-x 10 vagrant vagrant 4096 Dez 11 09:14 \u001b[0m\u001b[01;34mOnlinePythonTutor\u001b[0m/\r\n"
     ]
    }
   ],
   "source": [
    "ls -ld OnlinePythonTutor || git clone https://github.com/pgbovine/OnlinePythonTutor.git"
   ]
  },
  {
   "cell_type": "markdown",
   "metadata": {},
   "source": [
    "Falls das Verzeichnis OnlinePythonTutor nicht existiert, dann clonen wir das Projekt."
   ]
  },
  {
   "cell_type": "code",
   "execution_count": 6,
   "metadata": {},
   "outputs": [
    {
     "name": "stdout",
     "output_type": "stream",
     "text": [
      "/home/vagrant/extraProjekte/OnlinePythonTutor\n"
     ]
    }
   ],
   "source": [
    "cd OnlinePythonTutor/"
   ]
  },
  {
   "cell_type": "markdown",
   "metadata": {},
   "source": [
    "```bash\n",
    "virtualenv venv\n",
    "\n",
    "```\n",
    "Erstellt mir eine virtuelle Python Umgebung im Ordner `venv`."
   ]
  },
  {
   "cell_type": "markdown",
   "metadata": {},
   "source": [
    "```bash\n",
    "`source venv/bin/activate`\n",
    "\n",
    "```\n",
    "Activiere die virtuelle Python Umgebung. Mit `deactivate` kann diese __später__ deaktiviert werden."
   ]
  },
  {
   "cell_type": "markdown",
   "metadata": {},
   "source": [
    "```bash\n",
    "pip install bottle\n",
    "cd v5-unity/\n",
    "npm install\n",
    "```\n",
    "\n",
    "Installiert mir die notwendigen Pakete in der virtuellen Pythonumgebung."
   ]
  },
  {
   "cell_type": "markdown",
   "metadata": {},
   "source": [
    "```bash\n",
    "python bottle_server.py \n",
    "\n",
    "```\n",
    "\n",
    "Startet den OnlinePythonTutor.\n",
    "\n",
    "http://localhost:8003/visualize.html\n",
    "\n",
    "http://localhost:8003/live.html\n",
    "\n",
    "Mit Strg + c Server stoppen.\n",
    "\n",
    "Mit `deactivate` Virtualenv stoppen."
   ]
  }
 ],
 "metadata": {
  "kernelspec": {
   "display_name": "Python 3",
   "language": "python",
   "name": "python3"
  },
  "language_info": {
   "codemirror_mode": {
    "name": "ipython",
    "version": 3
   },
   "file_extension": ".py",
   "mimetype": "text/x-python",
   "name": "python",
   "nbconvert_exporter": "python",
   "pygments_lexer": "ipython3",
   "version": "3.5.2"
  }
 },
 "nbformat": 4,
 "nbformat_minor": 2
}
